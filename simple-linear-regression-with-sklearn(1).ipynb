{
 "cells": [
  {
   "cell_type": "markdown",
   "id": "ce4eeb22",
   "metadata": {
    "papermill": {
     "duration": 0.015839,
     "end_time": "2022-02-27T12:54:06.467984",
     "exception": false,
     "start_time": "2022-02-27T12:54:06.452145",
     "status": "completed"
    },
    "tags": []
   },
   "source": [
    "# Import Libraries"
   ]
  },
  {
   "cell_type": "code",
   "execution_count": 5,
   "id": "3f20f0e5",
   "metadata": {
    "execution": {
     "iopub.execute_input": "2022-02-27T12:54:06.505701Z",
     "iopub.status.busy": "2022-02-27T12:54:06.504757Z",
     "iopub.status.idle": "2022-02-27T12:54:07.636852Z",
     "shell.execute_reply": "2022-02-27T12:54:07.637396Z",
     "shell.execute_reply.started": "2022-02-27T12:30:42.186513Z"
    },
    "papermill": {
     "duration": 1.153513,
     "end_time": "2022-02-27T12:54:07.637589",
     "exception": false,
     "start_time": "2022-02-27T12:54:06.484076",
     "status": "completed"
    },
    "tags": []
   },
   "outputs": [],
   "source": [
    "import numpy as np\n",
    "import pandas as pd\n",
    "import matplotlib.pyplot as plt\n",
    "import seaborn as sns\n",
    "sns.set()"
   ]
  },
  {
   "cell_type": "markdown",
   "id": "0d714896",
   "metadata": {
    "papermill": {
     "duration": 0.017192,
     "end_time": "2022-02-27T12:54:07.673855",
     "exception": false,
     "start_time": "2022-02-27T12:54:07.656663",
     "status": "completed"
    },
    "tags": []
   },
   "source": [
    "# Import Data Set"
   ]
  },
  {
   "cell_type": "code",
   "execution_count": 6,
   "id": "ad4d54ae",
   "metadata": {
    "execution": {
     "iopub.execute_input": "2022-02-27T12:54:07.712803Z",
     "iopub.status.busy": "2022-02-27T12:54:07.712120Z",
     "iopub.status.idle": "2022-02-27T12:54:07.731864Z",
     "shell.execute_reply": "2022-02-27T12:54:07.732435Z",
     "shell.execute_reply.started": "2022-02-27T12:35:43.580182Z"
    },
    "papermill": {
     "duration": 0.041984,
     "end_time": "2022-02-27T12:54:07.732612",
     "exception": false,
     "start_time": "2022-02-27T12:54:07.690628",
     "status": "completed"
    },
    "tags": []
   },
   "outputs": [],
   "source": [
    "train_data = pd.read_csv('train(1).csv')\n",
    "test_data  = pd.read_csv('test(1).csv')"
   ]
  },
  {
   "cell_type": "code",
   "execution_count": 7,
   "id": "cefdf49b",
   "metadata": {
    "execution": {
     "iopub.execute_input": "2022-02-27T12:54:07.768107Z",
     "iopub.status.busy": "2022-02-27T12:54:07.767482Z",
     "iopub.status.idle": "2022-02-27T12:54:07.786393Z",
     "shell.execute_reply": "2022-02-27T12:54:07.785626Z",
     "shell.execute_reply.started": "2022-02-27T12:32:12.090008Z"
    },
    "papermill": {
     "duration": 0.0375,
     "end_time": "2022-02-27T12:54:07.786542",
     "exception": false,
     "start_time": "2022-02-27T12:54:07.749042",
     "status": "completed"
    },
    "tags": []
   },
   "outputs": [
    {
     "data": {
      "text/html": [
       "<div>\n",
       "<style scoped>\n",
       "    .dataframe tbody tr th:only-of-type {\n",
       "        vertical-align: middle;\n",
       "    }\n",
       "\n",
       "    .dataframe tbody tr th {\n",
       "        vertical-align: top;\n",
       "    }\n",
       "\n",
       "    .dataframe thead th {\n",
       "        text-align: right;\n",
       "    }\n",
       "</style>\n",
       "<table border=\"1\" class=\"dataframe\">\n",
       "  <thead>\n",
       "    <tr style=\"text-align: right;\">\n",
       "      <th></th>\n",
       "      <th>x</th>\n",
       "      <th>y</th>\n",
       "    </tr>\n",
       "  </thead>\n",
       "  <tbody>\n",
       "    <tr>\n",
       "      <th>0</th>\n",
       "      <td>24.0</td>\n",
       "      <td>21.549452</td>\n",
       "    </tr>\n",
       "    <tr>\n",
       "      <th>1</th>\n",
       "      <td>50.0</td>\n",
       "      <td>47.464463</td>\n",
       "    </tr>\n",
       "    <tr>\n",
       "      <th>2</th>\n",
       "      <td>15.0</td>\n",
       "      <td>17.218656</td>\n",
       "    </tr>\n",
       "    <tr>\n",
       "      <th>3</th>\n",
       "      <td>38.0</td>\n",
       "      <td>36.586398</td>\n",
       "    </tr>\n",
       "    <tr>\n",
       "      <th>4</th>\n",
       "      <td>87.0</td>\n",
       "      <td>87.288984</td>\n",
       "    </tr>\n",
       "  </tbody>\n",
       "</table>\n",
       "</div>"
      ],
      "text/plain": [
       "      x          y\n",
       "0  24.0  21.549452\n",
       "1  50.0  47.464463\n",
       "2  15.0  17.218656\n",
       "3  38.0  36.586398\n",
       "4  87.0  87.288984"
      ]
     },
     "execution_count": 7,
     "metadata": {},
     "output_type": "execute_result"
    }
   ],
   "source": [
    "train_data.head() # check train_data"
   ]
  },
  {
   "cell_type": "code",
   "execution_count": 8,
   "id": "d2a213e5",
   "metadata": {
    "execution": {
     "iopub.execute_input": "2022-02-27T12:54:07.826698Z",
     "iopub.status.busy": "2022-02-27T12:54:07.825971Z",
     "iopub.status.idle": "2022-02-27T12:54:07.834372Z",
     "shell.execute_reply": "2022-02-27T12:54:07.833663Z",
     "shell.execute_reply.started": "2022-02-27T12:32:16.956821Z"
    },
    "papermill": {
     "duration": 0.031082,
     "end_time": "2022-02-27T12:54:07.834516",
     "exception": false,
     "start_time": "2022-02-27T12:54:07.803434",
     "status": "completed"
    },
    "tags": []
   },
   "outputs": [
    {
     "data": {
      "text/html": [
       "<div>\n",
       "<style scoped>\n",
       "    .dataframe tbody tr th:only-of-type {\n",
       "        vertical-align: middle;\n",
       "    }\n",
       "\n",
       "    .dataframe tbody tr th {\n",
       "        vertical-align: top;\n",
       "    }\n",
       "\n",
       "    .dataframe thead th {\n",
       "        text-align: right;\n",
       "    }\n",
       "</style>\n",
       "<table border=\"1\" class=\"dataframe\">\n",
       "  <thead>\n",
       "    <tr style=\"text-align: right;\">\n",
       "      <th></th>\n",
       "      <th>x</th>\n",
       "      <th>y</th>\n",
       "    </tr>\n",
       "  </thead>\n",
       "  <tbody>\n",
       "    <tr>\n",
       "      <th>0</th>\n",
       "      <td>77</td>\n",
       "      <td>79.775152</td>\n",
       "    </tr>\n",
       "    <tr>\n",
       "      <th>1</th>\n",
       "      <td>21</td>\n",
       "      <td>23.177279</td>\n",
       "    </tr>\n",
       "    <tr>\n",
       "      <th>2</th>\n",
       "      <td>22</td>\n",
       "      <td>25.609262</td>\n",
       "    </tr>\n",
       "    <tr>\n",
       "      <th>3</th>\n",
       "      <td>20</td>\n",
       "      <td>17.857388</td>\n",
       "    </tr>\n",
       "    <tr>\n",
       "      <th>4</th>\n",
       "      <td>36</td>\n",
       "      <td>41.849864</td>\n",
       "    </tr>\n",
       "  </tbody>\n",
       "</table>\n",
       "</div>"
      ],
      "text/plain": [
       "    x          y\n",
       "0  77  79.775152\n",
       "1  21  23.177279\n",
       "2  22  25.609262\n",
       "3  20  17.857388\n",
       "4  36  41.849864"
      ]
     },
     "execution_count": 8,
     "metadata": {},
     "output_type": "execute_result"
    }
   ],
   "source": [
    "test_data.head()    # check test_data"
   ]
  },
  {
   "cell_type": "code",
   "execution_count": 14,
   "id": "a565477e",
   "metadata": {
    "execution": {
     "iopub.execute_input": "2022-02-27T12:54:07.872204Z",
     "iopub.status.busy": "2022-02-27T12:54:07.871521Z",
     "iopub.status.idle": "2022-02-27T12:54:07.879917Z",
     "shell.execute_reply": "2022-02-27T12:54:07.879235Z",
     "shell.execute_reply.started": "2022-02-27T12:37:02.037423Z"
    },
    "papermill": {
     "duration": 0.028296,
     "end_time": "2022-02-27T12:54:07.880099",
     "exception": false,
     "start_time": "2022-02-27T12:54:07.851803",
     "status": "completed"
    },
    "tags": []
   },
   "outputs": [],
   "source": [
    "X_train = train_data.iloc[:, :-1].values.reshape(-1,1)\n",
    "y_train = train_data.iloc[:, -1]\n",
    "X_test  = test_data.iloc[:, :-1]\n",
    "y_test  = test_data.iloc[:, -1]"
   ]
  },
  {
   "cell_type": "markdown",
   "id": "5f9daec2",
   "metadata": {
    "papermill": {
     "duration": 0.016802,
     "end_time": "2022-02-27T12:54:07.914368",
     "exception": false,
     "start_time": "2022-02-27T12:54:07.897566",
     "status": "completed"
    },
    "tags": []
   },
   "source": [
    "## Simple Linear Regression Implementation"
   ]
  },
  {
   "cell_type": "code",
   "execution_count": 15,
   "id": "60dd5e37",
   "metadata": {
    "execution": {
     "iopub.execute_input": "2022-02-27T12:54:07.954336Z",
     "iopub.status.busy": "2022-02-27T12:54:07.953627Z",
     "iopub.status.idle": "2022-02-27T12:54:08.244148Z",
     "shell.execute_reply": "2022-02-27T12:54:08.244682Z",
     "shell.execute_reply.started": "2022-02-27T12:37:05.526353Z"
    },
    "papermill": {
     "duration": 0.313087,
     "end_time": "2022-02-27T12:54:08.244859",
     "exception": false,
     "start_time": "2022-02-27T12:54:07.931772",
     "status": "completed"
    },
    "tags": []
   },
   "outputs": [
    {
     "data": {
      "text/plain": [
       "LinearRegression()"
      ]
     },
     "execution_count": 15,
     "metadata": {},
     "output_type": "execute_result"
    }
   ],
   "source": [
    "from sklearn.linear_model import LinearRegression\n",
    "\n",
    "model = LinearRegression()\n",
    "model.fit(X_train, y_train)/"
   ]
  },
  {
   "cell_type": "markdown",
   "id": "cbac604e",
   "metadata": {
    "papermill": {
     "duration": 0.017124,
     "end_time": "2022-02-27T12:54:08.280204",
     "exception": false,
     "start_time": "2022-02-27T12:54:08.263080",
     "status": "completed"
    },
    "tags": []
   },
   "source": [
    "## Prediction of test data"
   ]
  },
  {
   "cell_type": "code",
   "execution_count": 17,
   "id": "be637f06",
   "metadata": {
    "execution": {
     "iopub.execute_input": "2022-02-27T12:54:08.318706Z",
     "iopub.status.busy": "2022-02-27T12:54:08.318071Z",
     "iopub.status.idle": "2022-02-27T12:54:08.328327Z",
     "shell.execute_reply": "2022-02-27T12:54:08.327177Z",
     "shell.execute_reply.started": "2022-02-27T12:40:47.481465Z"
    },
    "papermill": {
     "duration": 0.030874,
     "end_time": "2022-02-27T12:54:08.328611",
     "exception": false,
     "start_time": "2022-02-27T12:54:08.297737",
     "status": "completed"
    },
    "tags": []
   },
   "outputs": [
    {
     "name": "stdout",
     "output_type": "stream",
     "text": [
      "x    36\n",
      "Name: 4, dtype: int64\n",
      "35.91636428252597\n"
     ]
    }
   ],
   "source": [
    "y_pred = model.predict(X_test)\n",
    "pred_value = 4\n",
    "print(X_test.iloc[pred_value])\n",
    "print(y_pred[pred_value])"
   ]
  },
  {
   "cell_type": "markdown",
   "id": "79c6305a",
   "metadata": {
    "papermill": {
     "duration": 0.017739,
     "end_time": "2022-02-27T12:54:08.365599",
     "exception": false,
     "start_time": "2022-02-27T12:54:08.347860",
     "status": "completed"
    },
    "tags": []
   },
   "source": [
    "## Visualisation"
   ]
  },
  {
   "cell_type": "code",
   "execution_count": 18,
   "id": "11de7abd",
   "metadata": {
    "execution": {
     "iopub.execute_input": "2022-02-27T12:54:08.406854Z",
     "iopub.status.busy": "2022-02-27T12:54:08.406092Z",
     "iopub.status.idle": "2022-02-27T12:54:08.726649Z",
     "shell.execute_reply": "2022-02-27T12:54:08.725724Z",
     "shell.execute_reply.started": "2022-02-27T12:48:46.726275Z"
    },
    "papermill": {
     "duration": 0.341269,
     "end_time": "2022-02-27T12:54:08.726832",
     "exception": false,
     "start_time": "2022-02-27T12:54:08.385563",
     "status": "completed"
    },
    "tags": []
   },
   "outputs": [
    {
     "data": {
      "image/png": "[encoded data removed]",
      "text/plain": [
       "<Figure size 1008x432 with 1 Axes>"
      ]
     },
     "metadata": {},
     "output_type": "display_data"
    }
   ],
   "source": [
    "plt.figure(figsize=(14,6))\n",
    "plt.scatter(X_train, y_train)\n",
    "plt.plot(X_train, model.predict(X_train), color='red')\n",
    "plt.title(\"Simple Linear Regression\")\n",
    "plt.xlabel(\"X_train\")\n",
    "plt.ylabel(\"y_train\")\n",
    "plt.show()"
   ]
  },
  {
   "cell_type": "markdown",
   "id": "0bf174cc",
   "metadata": {
    "papermill": {
     "duration": 0.01969,
     "end_time": "2022-02-27T12:54:08.768595",
     "exception": false,
     "start_time": "2022-02-27T12:54:08.748905",
     "status": "completed"
    },
    "tags": []
   },
   "source": [
    "###### Optional"
   ]
  },
  {
   "cell_type": "code",
   "execution_count": 19,
   "id": "ab529a88",
   "metadata": {
    "execution": {
     "iopub.execute_input": "2022-02-27T12:54:08.820598Z",
     "iopub.status.busy": "2022-02-27T12:54:08.819384Z",
     "iopub.status.idle": "2022-02-27T12:54:09.112813Z",
     "shell.execute_reply": "2022-02-27T12:54:09.113959Z",
     "shell.execute_reply.started": "2022-02-27T12:53:13.463475Z"
    },
    "papermill": {
     "duration": 0.323654,
     "end_time": "2022-02-27T12:54:09.114251",
     "exception": false,
     "start_time": "2022-02-27T12:54:08.790597",
     "status": "completed"
    },
    "tags": []
   },
   "outputs": [
    {
     "data": {
      "image/png": "[encoded data removed]",
      "text/plain": [
       "<Figure size 1008x432 with 1 Axes>"
      ]
     },
     "metadata": {},
     "output_type": "display_data"
    }
   ],
   "source": [
    "plt.figure(figsize=(14,6))\n",
    "plt.scatter(X_train, y_train)\n",
    "yhat = model.coef_*X_train + model.intercept_ # avoiding running the same model twice\n",
    "plt.plot(X_train, yhat, color='red')\n",
    "plt.title(\"Simple Linear Regression\")\n",
    "plt.xlabel(\"X_train\")\n",
    "plt.ylabel(\"y_train\")\n",
    "plt.show()"
   ]
  },
  {
   "cell_type": "code",
   "execution_count": 20,
   "id": "610da5eb",
   "metadata": {
    "execution": {
     "iopub.execute_input": "2022-02-27T12:54:09.164988Z",
     "iopub.status.busy": "2022-02-27T12:54:09.164257Z",
     "iopub.status.idle": "2022-02-27T12:54:09.451082Z",
     "shell.execute_reply": "2022-02-27T12:54:09.452223Z",
     "shell.execute_reply.started": "2022-02-27T12:48:41.934575Z"
    },
    "papermill": {
     "duration": 0.314604,
     "end_time": "2022-02-27T12:54:09.452476",
     "exception": false,
     "start_time": "2022-02-27T12:54:09.137872",
     "status": "completed"
    },
    "tags": []
   },
   "outputs": [
    {
     "data": {
      "image/png": "[encoded data removed]",
      "text/plain": [
       "<Figure size 1008x432 with 1 Axes>"
      ]
     },
     "metadata": {},
     "output_type": "display_data"
    }
   ],
   "source": [
    "plt.figure(figsize=(14,6))\n",
    "plt.scatter(X_test, y_test)\n",
    "plt.plot(X_train, model.predict(X_train), color='red')\n",
    "plt.title(\"Simple Linear Regression\")\n",
    "plt.xlabel(\"X_test\")\n",
    "plt.ylabel(\"y_train\")\n",
    "plt.show()"
   ]
  },
  {
   "cell_type": "code",
   "execution_count": null,
   "id": "5d1b6bff",
   "metadata": {},
   "outputs": [],
   "source": []
  }
 ],
 "metadata": {
  "kernelspec": {
   "display_name": "Python 3 (ipykernel)",
   "language": "python",
   "name": "python3"
  },
  "language_info": {
   "codemirror_mode": {
    "name": "ipython",
    "version": 3
   },
   "file_extension": ".py",
   "mimetype": "text/x-python",
   "name": "python",
   "nbconvert_exporter": "python",
   "pygments_lexer": "ipython3",
   "version": "3.9.7"
  },
  "papermill": {
   "default_parameters": {},
   "duration": 15.28971,
   "end_time": "2022-02-27T12:54:10.592682",
   "environment_variables": {},
   "exception": null,
   "input_path": "__notebook__.ipynb",
   "output_path": "__notebook__.ipynb",
   "parameters": {},
   "start_time": "2022-02-27T12:53:55.302972",
   "version": "2.3.3"
  }
 },
 "nbformat": 4,
 "nbformat_minor": 5
}
